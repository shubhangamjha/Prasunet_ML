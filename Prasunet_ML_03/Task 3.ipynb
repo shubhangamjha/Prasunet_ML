{
 "cells": [
  {
   "metadata": {},
   "cell_type": "markdown",
   "source": "# Implement a support vector machine (SVM) to classify images of cats and dogs from the Kaggle dataset.",
   "id": "b1d279c343ba110b"
  },
  {
   "metadata": {
    "ExecuteTime": {
     "end_time": "2024-07-11T06:22:56.808291Z",
     "start_time": "2024-07-11T06:22:55.958668Z"
    }
   },
   "cell_type": "code",
   "source": [
    "import os\n",
    "import numpy as np\n",
    "from sklearn.svm import SVC\n",
    "from sklearn.metrics import classification_report, confusion_matrix\n",
    "import matplotlib.pyplot as plt\n",
    "from tqdm import tqdm\n",
    "import joblib\n",
    "from sklearn.model_selection import GridSearchCV\n",
    "import cv2\n",
    "import seaborn as sns\n",
    "import time\n",
    "from sklearn.decomposition import PCA\n",
    "from sklearn.pipeline import Pipeline\n",
    "from sklearn.model_selection import train_test_split"
   ],
   "id": "initial_id",
   "outputs": [],
   "execution_count": 1
  },
  {
   "metadata": {
    "ExecuteTime": {
     "end_time": "2024-07-11T09:33:16.619880Z",
     "start_time": "2024-07-11T09:33:16.603706Z"
    }
   },
   "cell_type": "code",
   "source": [
    "confusion_image_path = 'confusion matrix.png'\n",
    "classification_file_path = 'classification_report.txt'\n",
    "model_file_path = \"svm_model.pkl\"\n",
    "train_dir = \"train/train\"\n",
    "test_dir = \"test1/test1\""
   ],
   "id": "b8a8387afd0d7bfd",
   "outputs": [],
   "execution_count": 16
  },
  {
   "metadata": {
    "ExecuteTime": {
     "end_time": "2024-07-11T09:34:18.734362Z",
     "start_time": "2024-07-11T09:33:20.879424Z"
    }
   },
   "cell_type": "code",
   "source": [
    "train_images = os.listdir(train_dir)\n",
    "features = []\n",
    "labels = []\n",
    "image_size = (50, 50)\n",
    "\n",
    "\n",
    "for image in tqdm(train_images, desc=\"Processing Train Images\"):\n",
    "    if image[0:3] == 'cat' :\n",
    "        label = 0\n",
    "    else :\n",
    "        label = 1\n",
    "    image_read = cv2.imread(train_dir+\"/\"+image)\n",
    "    image_resized = cv2.resize(image_read, image_size)\n",
    "    image_normalized = image_resized / 255.0\n",
    "    image_flatten = image_normalized.flatten()\n",
    "    features.append(image_flatten)\n",
    "    labels.append(label)"
   ],
   "id": "f8b01a687f6128a4",
   "outputs": [
    {
     "name": "stderr",
     "output_type": "stream",
     "text": [
      "Processing Train Images: 100%|██████████| 25000/25000 [00:57<00:00, 438.16it/s]\n"
     ]
    }
   ],
   "execution_count": 17
  },
  {
   "metadata": {
    "ExecuteTime": {
     "end_time": "2024-07-11T06:24:00.645145Z",
     "start_time": "2024-07-11T06:24:00.640200Z"
    }
   },
   "cell_type": "code",
   "source": "del train_images",
   "id": "cbdac7934931c034",
   "outputs": [],
   "execution_count": 4
  },
  {
   "metadata": {
    "ExecuteTime": {
     "end_time": "2024-07-11T06:24:02.097580Z",
     "start_time": "2024-07-11T06:24:00.645145Z"
    }
   },
   "cell_type": "code",
   "source": [
    "features = np.asarray(features)\n",
    "labels = np.asarray(labels)\n",
    "\n",
    "# train test split\n",
    "X_train, X_test, y_train, y_test = train_test_split(features, labels, test_size=0.2, shuffle=True, random_state=42)"
   ],
   "id": "8b4aa00ad3e82c8c",
   "outputs": [],
   "execution_count": 5
  },
  {
   "metadata": {
    "ExecuteTime": {
     "end_time": "2024-07-11T06:24:02.176862Z",
     "start_time": "2024-07-11T06:24:02.097580Z"
    }
   },
   "cell_type": "code",
   "source": [
    "del features\n",
    "del labels"
   ],
   "id": "b44cbc4baf27b78e",
   "outputs": [],
   "execution_count": 6
  },
  {
   "metadata": {
    "ExecuteTime": {
     "end_time": "2024-07-11T06:24:02.197415Z",
     "start_time": "2024-07-11T06:24:02.179871Z"
    }
   },
   "cell_type": "code",
   "source": [
    "# PCA, SVM, & Pipeline\n",
    "n_components = 0.8\n",
    "pca = PCA(n_components=n_components)\n",
    "svm = SVC()\n",
    "pca = PCA(n_components=n_components, random_state=42)\n",
    "pipeline = Pipeline([\n",
    "    ('pca', pca),\n",
    "    ('svm', svm)\n",
    "])"
   ],
   "id": "17f02fb0854d179e",
   "outputs": [],
   "execution_count": 7
  },
  {
   "metadata": {
    "ExecuteTime": {
     "end_time": "2024-07-11T06:24:02.206642Z",
     "start_time": "2024-07-11T06:24:02.197415Z"
    }
   },
   "cell_type": "code",
   "source": [
    "param_grid = {\n",
    "    'pca__n_components': [2, 1, 0.9, 0.8],\n",
    "    'svm__kernel': ['linear', 'rbf', 'poly', 'sigmoid'],\n",
    "}"
   ],
   "id": "854cd68283b47741",
   "outputs": [],
   "execution_count": 8
  },
  {
   "metadata": {
    "ExecuteTime": {
     "end_time": "2024-07-11T09:31:31.337799Z",
     "start_time": "2024-07-11T06:24:02.206642Z"
    }
   },
   "cell_type": "code",
   "source": [
    "# training\n",
    "start_time = time.time()\n",
    "\n",
    "grid_search = GridSearchCV(pipeline, param_grid, cv=3, verbose=4)\n",
    "grid_search.fit(X_train, y_train)\n",
    "\n",
    "\n",
    "end_time = time.time()"
   ],
   "id": "4952ad8265df4918",
   "outputs": [
    {
     "name": "stdout",
     "output_type": "stream",
     "text": [
      "Fitting 3 folds for each of 16 candidates, totalling 48 fits\n",
      "[CV 1/3] END pca__n_components=2, svm__kernel=linear;, score=0.528 total time=  13.8s\n",
      "[CV 2/3] END pca__n_components=2, svm__kernel=linear;, score=0.525 total time=  13.9s\n",
      "[CV 3/3] END pca__n_components=2, svm__kernel=linear;, score=0.537 total time=  13.6s\n",
      "[CV 1/3] END pca__n_components=2, svm__kernel=rbf;, score=0.570 total time=  11.4s\n",
      "[CV 2/3] END pca__n_components=2, svm__kernel=rbf;, score=0.560 total time=  10.8s\n",
      "[CV 3/3] END pca__n_components=2, svm__kernel=rbf;, score=0.564 total time=  10.8s\n",
      "[CV 1/3] END pca__n_components=2, svm__kernel=poly;, score=0.504 total time=   7.7s\n",
      "[CV 2/3] END pca__n_components=2, svm__kernel=poly;, score=0.486 total time=   7.6s\n",
      "[CV 3/3] END pca__n_components=2, svm__kernel=poly;, score=0.492 total time=   7.7s\n",
      "[CV 1/3] END pca__n_components=2, svm__kernel=sigmoid;, score=0.507 total time=   7.5s\n",
      "[CV 2/3] END pca__n_components=2, svm__kernel=sigmoid;, score=0.495 total time=   7.6s\n",
      "[CV 3/3] END pca__n_components=2, svm__kernel=sigmoid;, score=0.505 total time=   8.9s\n",
      "[CV 1/3] END pca__n_components=1, svm__kernel=linear;, score=0.518 total time=   8.8s\n",
      "[CV 2/3] END pca__n_components=1, svm__kernel=linear;, score=0.512 total time=   9.1s\n",
      "[CV 3/3] END pca__n_components=1, svm__kernel=linear;, score=0.525 total time=   8.2s\n",
      "[CV 1/3] END pca__n_components=1, svm__kernel=rbf;, score=0.527 total time=  11.5s\n",
      "[CV 2/3] END pca__n_components=1, svm__kernel=rbf;, score=0.525 total time=  11.3s\n",
      "[CV 3/3] END pca__n_components=1, svm__kernel=rbf;, score=0.529 total time=  11.7s\n",
      "[CV 1/3] END pca__n_components=1, svm__kernel=poly;, score=0.501 total time=   7.4s\n",
      "[CV 2/3] END pca__n_components=1, svm__kernel=poly;, score=0.495 total time=   7.8s\n",
      "[CV 3/3] END pca__n_components=1, svm__kernel=poly;, score=0.499 total time=   7.6s\n",
      "[CV 1/3] END pca__n_components=1, svm__kernel=sigmoid;, score=0.505 total time=   6.8s\n",
      "[CV 2/3] END pca__n_components=1, svm__kernel=sigmoid;, score=0.495 total time=   6.5s\n",
      "[CV 3/3] END pca__n_components=1, svm__kernel=sigmoid;, score=0.500 total time=   6.7s\n",
      "[CV 1/3] END pca__n_components=0.9, svm__kernel=linear;, score=0.602 total time=16.1min\n",
      "[CV 2/3] END pca__n_components=0.9, svm__kernel=linear;, score=0.602 total time=14.6min\n",
      "[CV 3/3] END pca__n_components=0.9, svm__kernel=linear;, score=0.621 total time=14.1min\n",
      "[CV 1/3] END pca__n_components=0.9, svm__kernel=rbf;, score=0.672 total time= 6.9min\n",
      "[CV 2/3] END pca__n_components=0.9, svm__kernel=rbf;, score=0.672 total time= 6.9min\n",
      "[CV 3/3] END pca__n_components=0.9, svm__kernel=rbf;, score=0.678 total time= 6.6min\n",
      "[CV 1/3] END pca__n_components=0.9, svm__kernel=poly;, score=0.605 total time= 6.6min\n",
      "[CV 2/3] END pca__n_components=0.9, svm__kernel=poly;, score=0.604 total time= 6.8min\n",
      "[CV 3/3] END pca__n_components=0.9, svm__kernel=poly;, score=0.599 total time= 6.4min\n",
      "[CV 1/3] END pca__n_components=0.9, svm__kernel=sigmoid;, score=0.510 total time= 6.1min\n",
      "[CV 2/3] END pca__n_components=0.9, svm__kernel=sigmoid;, score=0.523 total time= 6.0min\n",
      "[CV 3/3] END pca__n_components=0.9, svm__kernel=sigmoid;, score=0.511 total time= 6.1min\n",
      "[CV 1/3] END pca__n_components=0.8, svm__kernel=linear;, score=0.584 total time= 7.6min\n",
      "[CV 2/3] END pca__n_components=0.8, svm__kernel=linear;, score=0.585 total time= 7.5min\n",
      "[CV 3/3] END pca__n_components=0.8, svm__kernel=linear;, score=0.587 total time= 7.5min\n",
      "[CV 1/3] END pca__n_components=0.8, svm__kernel=rbf;, score=0.659 total time= 5.9min\n",
      "[CV 2/3] END pca__n_components=0.8, svm__kernel=rbf;, score=0.666 total time= 5.9min\n",
      "[CV 3/3] END pca__n_components=0.8, svm__kernel=rbf;, score=0.668 total time= 6.0min\n",
      "[CV 1/3] END pca__n_components=0.8, svm__kernel=poly;, score=0.598 total time= 5.8min\n",
      "[CV 2/3] END pca__n_components=0.8, svm__kernel=poly;, score=0.597 total time= 5.9min\n",
      "[CV 3/3] END pca__n_components=0.8, svm__kernel=poly;, score=0.591 total time= 5.9min\n",
      "[CV 1/3] END pca__n_components=0.8, svm__kernel=sigmoid;, score=0.504 total time= 5.9min\n",
      "[CV 2/3] END pca__n_components=0.8, svm__kernel=sigmoid;, score=0.521 total time= 5.8min\n",
      "[CV 3/3] END pca__n_components=0.8, svm__kernel=sigmoid;, score=0.508 total time= 5.6min\n"
     ]
    }
   ],
   "execution_count": 9
  },
  {
   "metadata": {
    "ExecuteTime": {
     "end_time": "2024-07-11T09:31:31.459647Z",
     "start_time": "2024-07-11T09:31:31.342307Z"
    }
   },
   "cell_type": "code",
   "source": [
    "del X_train\n",
    "del y_train"
   ],
   "id": "8de10f28ba443ad3",
   "outputs": [],
   "execution_count": 10
  },
  {
   "metadata": {
    "ExecuteTime": {
     "end_time": "2024-07-11T09:31:31.469063Z",
     "start_time": "2024-07-11T09:31:31.461307Z"
    }
   },
   "cell_type": "code",
   "source": [
    "# Calculate total training time\n",
    "training_time = end_time - start_time\n",
    "\n",
    "# Convert time to hours, minutes, seconds\n",
    "hours, remainder = divmod(training_time, 3600)\n",
    "minutes, seconds = divmod(remainder, 60)\n",
    "\n",
    "# Print out the training time\n",
    "print(f\"Training time: {int(hours)} hour {int(minutes)} minute {seconds:.2f} second\")"
   ],
   "id": "a2e05e476cac7e7a",
   "outputs": [
    {
     "name": "stdout",
     "output_type": "stream",
     "text": [
      "Training time: 3 hour 7 minute 29.10 second\n"
     ]
    }
   ],
   "execution_count": 11
  },
  {
   "metadata": {
    "ExecuteTime": {
     "end_time": "2024-07-11T09:31:31.481710Z",
     "start_time": "2024-07-11T09:31:31.475307Z"
    }
   },
   "cell_type": "code",
   "source": [
    "# Get the best parameters & models\n",
    "best_pipeline = grid_search.best_estimator_\n",
    "best_params = grid_search.best_params_\n",
    "best_score = grid_search.best_score_\n",
    "\n",
    "print(\"Best Parameters: \", best_params)\n",
    "print(\"Best Score: \", best_score)"
   ],
   "id": "1c97b28b76f925dc",
   "outputs": [
    {
     "name": "stdout",
     "output_type": "stream",
     "text": [
      "Best Parameters:  {'pca__n_components': 0.9, 'svm__kernel': 'rbf'}\n",
      "Best Score:  0.6738502183801701\n"
     ]
    }
   ],
   "execution_count": 12
  },
  {
   "metadata": {
    "ExecuteTime": {
     "end_time": "2024-07-11T09:34:34.935209Z",
     "start_time": "2024-07-11T09:34:34.875531Z"
    }
   },
   "cell_type": "code",
   "source": [
    "# Save the best model\n",
    "model_filename = 'best_model.joblib'\n",
    "joblib.dump(best_pipeline, model_filename)\n",
    "\n",
    "print(f\"Model saved as {model_filename}\")"
   ],
   "id": "d8e38370fa581868",
   "outputs": [
    {
     "name": "stdout",
     "output_type": "stream",
     "text": [
      "Model saved as best_model.joblib\n"
     ]
    }
   ],
   "execution_count": 18
  },
  {
   "metadata": {
    "ExecuteTime": {
     "end_time": "2024-07-11T09:35:03.699369Z",
     "start_time": "2024-07-11T09:34:38.161498Z"
    }
   },
   "cell_type": "code",
   "source": [
    "# Evaluation with test data set\n",
    "accuracy = best_pipeline.score(X_test, y_test)\n",
    "print(\"Accuracy:\", accuracy)"
   ],
   "id": "958504b64a8192f6",
   "outputs": [
    {
     "name": "stdout",
     "output_type": "stream",
     "text": [
      "Accuracy: 0.6846\n"
     ]
    }
   ],
   "execution_count": 19
  },
  {
   "metadata": {
    "ExecuteTime": {
     "end_time": "2024-07-11T09:35:28.406016Z",
     "start_time": "2024-07-11T09:35:03.699369Z"
    }
   },
   "cell_type": "code",
   "source": [
    "y_pred = best_pipeline.predict(X_test)\n",
    "\n",
    "# classification report\n",
    "target_names = ['Cat', 'Dog']\n",
    "classification_rep = classification_report(y_test, y_pred, target_names=target_names)\n",
    "print(\"Classification Report:\\n\", classification_rep)\n",
    "\n",
    "with open(classification_file_path, 'w') as file:\n",
    "    file.write(classification_rep)"
   ],
   "id": "b2cd69b6610c99d",
   "outputs": [
    {
     "name": "stdout",
     "output_type": "stream",
     "text": [
      "Classification Report:\n",
      "               precision    recall  f1-score   support\n",
      "\n",
      "         Cat       0.69      0.69      0.69      2515\n",
      "         Dog       0.68      0.68      0.68      2485\n",
      "\n",
      "    accuracy                           0.68      5000\n",
      "   macro avg       0.68      0.68      0.68      5000\n",
      "weighted avg       0.68      0.68      0.68      5000\n",
      "\n"
     ]
    }
   ],
   "execution_count": 20
  },
  {
   "metadata": {
    "ExecuteTime": {
     "end_time": "2024-07-11T09:35:33.213423Z",
     "start_time": "2024-07-11T09:35:32.980647Z"
    }
   },
   "cell_type": "code",
   "source": [
    "# Confusion matrix\n",
    "cm = confusion_matrix(y_test, y_pred)\n",
    "sns.heatmap(cm, annot=True, fmt=\"d\", cmap=\"Blues\")\n",
    "plt.xlabel('Predicted labels')\n",
    "plt.ylabel('True labels')\n",
    "plt.savefig(confusion_image_path)\n",
    "plt.show()"
   ],
   "id": "ba5e9bc724db1b5",
   "outputs": [
    {
     "data": {
      "text/plain": [
       "<Figure size 640x480 with 2 Axes>"
      ],
      "image/png": "[encoded data removed]"
     },
     "metadata": {},
     "output_type": "display_data"
    }
   ],
   "execution_count": 21
  },
  {
   "metadata": {},
   "cell_type": "code",
   "source": "",
   "id": "96f3dbd751ee5599",
   "outputs": [],
   "execution_count": null
  }
 ],
 "metadata": {
  "kernelspec": {
   "display_name": "Python 3",
   "language": "python",
   "name": "python3"
  },
  "language_info": {
   "codemirror_mode": {
    "name": "ipython",
    "version": 2
   },
   "file_extension": ".py",
   "mimetype": "text/x-python",
   "name": "python",
   "nbconvert_exporter": "python",
   "pygments_lexer": "ipython2",
   "version": "2.7.6"
  }
 },
 "nbformat": 4,
 "nbformat_minor": 5
}
